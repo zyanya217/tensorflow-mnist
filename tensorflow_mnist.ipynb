{
  "cells": [
    {
      "cell_type": "markdown",
      "source": [
        "## 1. 初始準備\n",
        "Keras可以用各種不同的深度學習套件當底層，在此用Tensorflow。\n",
        "\n",
        "%env是jupyer的魔術指令可以用來設定環境變數。"
      ],
      "metadata": {
        "id": "mndgpTpIxmvB"
      }
    },
    {
      "cell_type": "code",
      "source": [
        "%env KERAS_BACKEND=tensorflow"
      ],
      "metadata": {
        "colab": {
          "base_uri": "https://localhost:8080/"
        },
        "id": "jYw4lFKHxDPE",
        "outputId": "91e63769-4978-4ee4-b634-c6bfd36ba455"
      },
      "execution_count": null,
      "outputs": [
        {
          "output_type": "stream",
          "name": "stdout",
          "text": [
            "env: KERAS_BACKEND=tensorflow\n"
          ]
        }
      ]
    },
    {
      "cell_type": "code",
      "source": [
        "%matplotlib inline\n",
        "\n",
        "import numpy as np\n",
        "import matplotlib.pyplot as plt"
      ],
      "metadata": {
        "id": "XbMcUjWHzQLb"
      },
      "execution_count": null,
      "outputs": []
    },
    {
      "cell_type": "markdown",
      "source": [
        "## 2. 讀入 MNIST數據庫\n",
        "MNIST是有一堆0-9的手寫數字圖庫。\n",
        "有6萬筆訓練資料,1萬筆測試資料。"
      ],
      "metadata": {
        "id": "Ez68umNz0zzG"
      }
    },
    {
      "cell_type": "markdown",
      "source": [
        "\n",
        "### 2.1 由 Keras 讀入 MNIST\n",
        "\n",
        "Keras幫我們準備好MNIST數據庫,可以將它讀進來(第一次要花點時間)。"
      ],
      "metadata": {
        "id": "crvkfEVC1MxX"
      }
    },
    {
      "cell_type": "code",
      "source": [
        "from keras.datasets import mnist\n",
        "(x_train, y_train), (x_test, y_test) = mnist.load_data()"
      ],
      "metadata": {
        "colab": {
          "base_uri": "https://localhost:8080/"
        },
        "id": "qoXAHvqLzgRi",
        "outputId": "0f3ec9a4-3955-419c-d2aa-694a9b36d0fa"
      },
      "execution_count": null,
      "outputs": [
        {
          "output_type": "stream",
          "name": "stdout",
          "text": [
            "Downloading data from https://storage.googleapis.com/tensorflow/tf-keras-datasets/mnist.npz\n",
            "11490434/11490434 [==============================] - 0s 0us/step\n"
          ]
        }
      ]
    },
    {
      "cell_type": "markdown",
      "source": [
        "訓練資料6萬筆、測試資料1筆。"
      ],
      "metadata": {
        "id": "tJ0OGBhQ2Ux7"
      }
    },
    {
      "cell_type": "code",
      "source": [
        "len(x_train)"
      ],
      "metadata": {
        "colab": {
          "base_uri": "https://localhost:8080/"
        },
        "id": "s91m2gP62XVB",
        "outputId": "00d68b81-2e15-41da-a631-4df9c4324dec"
      },
      "execution_count": null,
      "outputs": [
        {
          "output_type": "execute_result",
          "data": {
            "text/plain": [
              "60000"
            ]
          },
          "metadata": {},
          "execution_count": 20
        }
      ]
    },
    {
      "cell_type": "code",
      "source": [
        "len(y_train)"
      ],
      "metadata": {
        "colab": {
          "base_uri": "https://localhost:8080/"
        },
        "id": "pcAv-_Uv2y4o",
        "outputId": "710bb0a2-6e14-4d67-955d-8f207ecbab12"
      },
      "execution_count": null,
      "outputs": [
        {
          "output_type": "execute_result",
          "data": {
            "text/plain": [
              "60000"
            ]
          },
          "metadata": {},
          "execution_count": 21
        }
      ]
    },
    {
      "cell_type": "markdown",
      "source": [
        "若在讀的過程中失敗,你需要找到下載的部份數據集刪去，再下載一次。"
      ],
      "metadata": {
        "id": "2_4wwy_i2zKy"
      }
    },
    {
      "cell_type": "markdown",
      "source": [
        "### 2.2 數據庫內容\n",
        "\n",
        "每筆輸入(x)就是一個手寫的0-9中一個數字的圖檔,大小為28×28。\n",
        "\n",
        "輸出(y)就是答案。\n",
        "\n",
        "看看編號9487的訓練資料:"
      ],
      "metadata": {
        "id": "l5MCl07P3C-q"
      }
    },
    {
      "cell_type": "code",
      "source": [
        "x_train[9487].shape"
      ],
      "metadata": {
        "colab": {
          "base_uri": "https://localhost:8080/"
        },
        "id": "NZDGu9Vo3Crc",
        "outputId": "97e4f6fb-d402-41d9-89a8-c3b0f7d33b43"
      },
      "execution_count": null,
      "outputs": [
        {
          "output_type": "execute_result",
          "data": {
            "text/plain": [
              "(28, 28)"
            ]
          },
          "metadata": {},
          "execution_count": 22
        }
      ]
    },
    {
      "cell_type": "code",
      "source": [
        "x_train[9487]"
      ],
      "metadata": {
        "colab": {
          "base_uri": "https://localhost:8080/",
          "height": 68
        },
        "id": "EYvneOmr3ngR",
        "outputId": "983c5f4b-2e10-45a4-9c82-98f7e0e580e7"
      },
      "execution_count": null,
      "outputs": [
        {
          "output_type": "execute_result",
          "data": {
            "text/plain": [
              "array([[  0,   0,   0,   0,   0,   0,   0,   0,   0,   0,   0,   0,   0,\n",
              "          0,   0,   0,   0,   0,   0,   0,   0,   0,   0,   0,   0,   0,\n",
              "          0,   0],\n",
              "       [  0,   0,   0,   0,   0,   0,   0,   0,   0,   0,   0,   0,   0,\n",
              "          0,   0,   0,   0,   0,   0,   0,   0,   0,   0,   0,   0,   0,\n",
              "          0,   0],\n",
              "       [  0,   0,   0,   0,   0,   0,   0,   0,   0,   0,   0,   0,   0,\n",
              "          0,   0,   0,   0,   0,   0,   0,   0,   0,   0,   0,   0,   0,\n",
              "          0,   0],\n",
              "       [  0,   0,   0,   0,   0,   0,   0,   0,   0,   0,   0,   0,   0,\n",
              "          0,   0,   0,   0,   0,   0,   0,   0,   0,   0,   0,   0,   0,\n",
              "          0,   0],\n",
              "       [  0,   0,   0,   0,   0,   0,   0,   0,   0,   0,   0,   0, 240,\n",
              "        253, 165,   0,   0,   0,   0,   0,   0,   0,   0,   0,   0,   0,\n",
              "          0,   0],\n",
              "       [  0,   0,   0,   0,   0,   0,   0,   0,   0,   0,   0,  32, 241,\n",
              "        252, 252,   0,   0,   0,   0,   0,   0,   0,   0,   0,   0,   0,\n",
              "          0,   0],\n",
              "       [  0,   0,   0,   0,   0,   0,   0,   0,   0,   0,   2, 141, 252,\n",
              "        252, 252,  98,   0,   0,   0,   0,   0,   0,   0,   0,   0,   0,\n",
              "          0,   0],\n",
              "       [  0,   0,   0,   0,   0,   0,   0,   0,   0,   0,  30, 252, 252,\n",
              "        252, 252, 149,   0,   0,   0,   0,   0,   0,   0,   0,   0,   0,\n",
              "          0,   0],\n",
              "       [  0,   0,   0,   0,   0,   0,   0,   0,   0,   0,  21, 217, 252,\n",
              "        252, 252, 149,   0,   0,   0,   0,   0,   0,   0,   0,   0,   0,\n",
              "          0,   0],\n",
              "       [  0,   0,   0,   0,   0,   0,   0,   0,   0,   0,   0, 134, 252,\n",
              "        252, 252, 223,  31,   0,   0,   0,   0,   0,   0,   0,   0,   0,\n",
              "          0,   0],\n",
              "       [  0,   0,   0,   0,   0,   0,   0,   0,   0,   0,   0, 134, 252,\n",
              "        252, 252, 253,  44,   0,   0,   0,   0,   0,   0,   0,   0,   0,\n",
              "          0,   0],\n",
              "       [  0,   0,   0,   0,   0,   0,   0,   0,   0,   0,   0,   8, 239,\n",
              "        252, 252, 253,  44,   0,   0,   0,   0,   0,   0,   0,   0,   0,\n",
              "          0,   0],\n",
              "       [  0,   0,   0,   0,   0,   0,   0,   0,   0,   0,   0,   0, 238,\n",
              "        252, 252, 253,  44,   0,   0,   0,   0,   0,   0,   0,   0,   0,\n",
              "          0,   0],\n",
              "       [  0,   0,   0,   0,   0,   0,   0,   0,   0,   0,   0,   0, 238,\n",
              "        252, 252, 253,  44,   0,   0,   0,   0,   0,   0,   0,   0,   0,\n",
              "          0,   0],\n",
              "       [  0,   0,   0,   0,   0,   0,   0,   0,   0,   0,   0,   0, 178,\n",
              "        253, 253, 255, 106,   0,   0,   0,   0,   0,   0,   0,   0,   0,\n",
              "          0,   0],\n",
              "       [  0,   0,   0,   0,   0,   0,   0,   0,   0,   0,   0,   0,  90,\n",
              "        252, 252, 253, 206,  21,   0,   0,   0,   0,   0,   0,   0,   0,\n",
              "          0,   0],\n",
              "       [  0,   0,   0,   0,   0,   0,   0,   0,   0,   0,   0,   0,  90,\n",
              "        252, 252, 253, 252,  88,   0,   0,   0,   0,   0,   0,   0,   0,\n",
              "          0,   0],\n",
              "       [  0,   0,   0,   0,   0,   0,   0,   0,   0,   0,   0,   0,  90,\n",
              "        252, 252, 253, 252,  88,   0,   0,   0,   0,   0,   0,   0,   0,\n",
              "          0,   0],\n",
              "       [  0,   0,   0,   0,   0,   0,   0,   0,   0,   0,   0,   0,  63,\n",
              "        234, 252, 253, 252, 220,   0,   0,   0,   0,   0,   0,   0,   0,\n",
              "          0,   0],\n",
              "       [  0,   0,   0,   0,   0,   0,   0,   0,   0,   0,   0,   0,   0,\n",
              "        176, 252, 253, 252, 237,   0,   0,   0,   0,   0,   0,   0,   0,\n",
              "          0,   0],\n",
              "       [  0,   0,   0,   0,   0,   0,   0,   0,   0,   0,   0,   0,   0,\n",
              "         45, 252, 253, 252, 245,  71,   0,   0,   0,   0,   0,   0,   0,\n",
              "          0,   0],\n",
              "       [  0,   0,   0,   0,   0,   0,   0,   0,   0,   0,   0,   0,   0,\n",
              "         29, 215, 253, 252, 237,   8,   0,   0,   0,   0,   0,   0,   0,\n",
              "          0,   0],\n",
              "       [  0,   0,   0,   0,   0,   0,   0,   0,   0,   0,   0,   0,   0,\n",
              "          0, 149, 253, 252, 237,   0,   0,   0,   0,   0,   0,   0,   0,\n",
              "          0,   0],\n",
              "       [  0,   0,   0,   0,   0,   0,   0,   0,   0,   0,   0,   0,   0,\n",
              "          0,  61, 165, 252, 237,   0,   0,   0,   0,   0,   0,   0,   0,\n",
              "          0,   0],\n",
              "       [  0,   0,   0,   0,   0,   0,   0,   0,   0,   0,   0,   0,   0,\n",
              "          0,   0,   0,   0,   0,   0,   0,   0,   0,   0,   0,   0,   0,\n",
              "          0,   0],\n",
              "       [  0,   0,   0,   0,   0,   0,   0,   0,   0,   0,   0,   0,   0,\n",
              "          0,   0,   0,   0,   0,   0,   0,   0,   0,   0,   0,   0,   0,\n",
              "          0,   0],\n",
              "       [  0,   0,   0,   0,   0,   0,   0,   0,   0,   0,   0,   0,   0,\n",
              "          0,   0,   0,   0,   0,   0,   0,   0,   0,   0,   0,   0,   0,\n",
              "          0,   0],\n",
              "       [  0,   0,   0,   0,   0,   0,   0,   0,   0,   0,   0,   0,   0,\n",
              "          0,   0,   0,   0,   0,   0,   0,   0,   0,   0,   0,   0,   0,\n",
              "          0,   0]], dtype=uint8)"
            ],
            "text/html": [
              "<style>\n",
              "      .ndarray_repr .ndarray_raw_data {\n",
              "        display: none;\n",
              "      }\n",
              "      .ndarray_repr.show_array .ndarray_raw_data {\n",
              "        display: block;\n",
              "      }\n",
              "      .ndarray_repr.show_array .ndarray_image_preview {\n",
              "        display: none;\n",
              "      }\n",
              "      </style>\n",
              "      <div id=\"id-3d20ee6e-01ea-40df-8282-f91254cfd8db\" class=\"ndarray_repr\"><pre>ndarray (28, 28) <button style=\"padding: 0 2px;\">show data</button></pre><img src=\"data:image/png;base64,iVBORw0KGgoAAAANSUhEUgAAABwAAAAcCAAAAABXZoBIAAAAl0lEQVR4nGNgGGDw4e9SnHIKH//8QRFgQmLmcjMwJOHQKPfnz58/U3Ho/H4Xn3va/vz5c18eu06I2bw4dHK8//Pnrw4OnT/+o6lGNxa35BFGRiY7XCqj/vz5e04Uj7F6zkTaiQLsX/35++cOLtkNf/7+eYtLUvfP3z9f3XFIyl7/++ctBw4HPd7HwMDwA5e5tktx20kfAADDmzSMy2qaSgAAAABJRU5ErkJggg==\" class=\"ndarray_image_preview\" /><pre class=\"ndarray_raw_data\">array([[  0,   0,   0,   0,   0,   0,   0,   0,   0,   0,   0,   0,   0,\n",
              "          0,   0,   0,   0,   0,   0,   0,   0,   0,   0,   0,   0,   0,\n",
              "          0,   0],\n",
              "       [  0,   0,   0,   0,   0,   0,   0,   0,   0,   0,   0,   0,   0,\n",
              "          0,   0,   0,   0,   0,   0,   0,   0,   0,   0,   0,   0,   0,\n",
              "          0,   0],\n",
              "       [  0,   0,   0,   0,   0,   0,   0,   0,   0,   0,   0,   0,   0,\n",
              "          0,   0,   0,   0,   0,   0,   0,   0,   0,   0,   0,   0,   0,\n",
              "          0,   0],\n",
              "       [  0,   0,   0,   0,   0,   0,   0,   0,   0,   0,   0,   0,   0,\n",
              "          0,   0,   0,   0,   0,   0,   0,   0,   0,   0,   0,   0,   0,\n",
              "          0,   0],\n",
              "       [  0,   0,   0,   0,   0,   0,   0,   0,   0,   0,   0,   0, 240,\n",
              "        253, 165,   0,   0,   0,   0,   0,   0,   0,   0,   0,   0,   0,\n",
              "          0,   0],\n",
              "       [  0,   0,   0,   0,   0,   0,   0,   0,   0,   0,   0,  32, 241,\n",
              "        252, 252,   0,   0,   0,   0,   0,   0,   0,   0,   0,   0,   0,\n",
              "          0,   0],\n",
              "       [  0,   0,   0,   0,   0,   0,   0,   0,   0,   0,   2, 141, 252,\n",
              "        252, 252,  98,   0,   0,   0,   0,   0,   0,   0,   0,   0,   0,\n",
              "          0,   0],\n",
              "       [  0,   0,   0,   0,   0,   0,   0,   0,   0,   0,  30, 252, 252,\n",
              "        252, 252, 149,   0,   0,   0,   0,   0,   0,   0,   0,   0,   0,\n",
              "          0,   0],\n",
              "       [  0,   0,   0,   0,   0,   0,   0,   0,   0,   0,  21, 217, 252,\n",
              "        252, 252, 149,   0,   0,   0,   0,   0,   0,   0,   0,   0,   0,\n",
              "          0,   0],\n",
              "       [  0,   0,   0,   0,   0,   0,   0,   0,   0,   0,   0, 134, 252,\n",
              "        252, 252, 223,  31,   0,   0,   0,   0,   0,   0,   0,   0,   0,\n",
              "          0,   0],\n",
              "       [  0,   0,   0,   0,   0,   0,   0,   0,   0,   0,   0, 134, 252,\n",
              "        252, 252, 253,  44,   0,   0,   0,   0,   0,   0,   0,   0,   0,\n",
              "          0,   0],\n",
              "       [  0,   0,   0,   0,   0,   0,   0,   0,   0,   0,   0,   8, 239,\n",
              "        252, 252, 253,  44,   0,   0,   0,   0,   0,   0,   0,   0,   0,\n",
              "          0,   0],\n",
              "       [  0,   0,   0,   0,   0,   0,   0,   0,   0,   0,   0,   0, 238,\n",
              "        252, 252, 253,  44,   0,   0,   0,   0,   0,   0,   0,   0,   0,\n",
              "          0,   0],\n",
              "       [  0,   0,   0,   0,   0,   0,   0,   0,   0,   0,   0,   0, 238,\n",
              "        252, 252, 253,  44,   0,   0,   0,   0,   0,   0,   0,   0,   0,\n",
              "          0,   0],\n",
              "       [  0,   0,   0,   0,   0,   0,   0,   0,   0,   0,   0,   0, 178,\n",
              "        253, 253, 255, 106,   0,   0,   0,   0,   0,   0,   0,   0,   0,\n",
              "          0,   0],\n",
              "       [  0,   0,   0,   0,   0,   0,   0,   0,   0,   0,   0,   0,  90,\n",
              "        252, 252, 253, 206,  21,   0,   0,   0,   0,   0,   0,   0,   0,\n",
              "          0,   0],\n",
              "       [  0,   0,   0,   0,   0,   0,   0,   0,   0,   0,   0,   0,  90,\n",
              "        252, 252, 253, 252,  88,   0,   0,   0,   0,   0,   0,   0,   0,\n",
              "          0,   0],\n",
              "       [  0,   0,   0,   0,   0,   0,   0,   0,   0,   0,   0,   0,  90,\n",
              "        252, 252, 253, 252,  88,   0,   0,   0,   0,   0,   0,   0,   0,\n",
              "          0,   0],\n",
              "       [  0,   0,   0,   0,   0,   0,   0,   0,   0,   0,   0,   0,  63,\n",
              "        234, 252, 253, 252, 220,   0,   0,   0,   0,   0,   0,   0,   0,\n",
              "          0,   0],\n",
              "       [  0,   0,   0,   0,   0,   0,   0,   0,   0,   0,   0,   0,   0,\n",
              "        176, 252, 253, 252, 237,   0,   0,   0,   0,   0,   0,   0,   0,\n",
              "          0,   0],\n",
              "       [  0,   0,   0,   0,   0,   0,   0,   0,   0,   0,   0,   0,   0,\n",
              "         45, 252, 253, 252, 245,  71,   0,   0,   0,   0,   0,   0,   0,\n",
              "          0,   0],\n",
              "       [  0,   0,   0,   0,   0,   0,   0,   0,   0,   0,   0,   0,   0,\n",
              "         29, 215, 253, 252, 237,   8,   0,   0,   0,   0,   0,   0,   0,\n",
              "          0,   0],\n",
              "       [  0,   0,   0,   0,   0,   0,   0,   0,   0,   0,   0,   0,   0,\n",
              "          0, 149, 253, 252, 237,   0,   0,   0,   0,   0,   0,   0,   0,\n",
              "          0,   0],\n",
              "       [  0,   0,   0,   0,   0,   0,   0,   0,   0,   0,   0,   0,   0,\n",
              "          0,  61, 165, 252, 237,   0,   0,   0,   0,   0,   0,   0,   0,\n",
              "          0,   0],\n",
              "       [  0,   0,   0,   0,   0,   0,   0,   0,   0,   0,   0,   0,   0,\n",
              "          0,   0,   0,   0,   0,   0,   0,   0,   0,   0,   0,   0,   0,\n",
              "          0,   0],\n",
              "       [  0,   0,   0,   0,   0,   0,   0,   0,   0,   0,   0,   0,   0,\n",
              "          0,   0,   0,   0,   0,   0,   0,   0,   0,   0,   0,   0,   0,\n",
              "          0,   0],\n",
              "       [  0,   0,   0,   0,   0,   0,   0,   0,   0,   0,   0,   0,   0,\n",
              "          0,   0,   0,   0,   0,   0,   0,   0,   0,   0,   0,   0,   0,\n",
              "          0,   0],\n",
              "       [  0,   0,   0,   0,   0,   0,   0,   0,   0,   0,   0,   0,   0,\n",
              "          0,   0,   0,   0,   0,   0,   0,   0,   0,   0,   0,   0,   0,\n",
              "          0,   0]], dtype=uint8)</pre></div><script>\n",
              "      (() => {\n",
              "      const titles = ['show data', 'hide data'];\n",
              "      let index = 0\n",
              "      document.querySelector('#id-3d20ee6e-01ea-40df-8282-f91254cfd8db button').onclick = (e) => {\n",
              "        document.querySelector('#id-3d20ee6e-01ea-40df-8282-f91254cfd8db').classList.toggle('show_array');\n",
              "        index = (++index) % 2;\n",
              "        document.querySelector('#id-3d20ee6e-01ea-40df-8282-f91254cfd8db button').textContent = titles[index];\n",
              "        e.preventDefault();\n",
              "        e.stopPropagation();\n",
              "      }\n",
              "      })();\n",
              "    </script>"
            ]
          },
          "metadata": {},
          "execution_count": 23
        }
      ]
    },
    {
      "cell_type": "markdown",
      "source": [
        "人眼辨識知道這是1。"
      ],
      "metadata": {
        "id": "YCoRpAqB3nzz"
      }
    },
    {
      "cell_type": "code",
      "source": [
        "plt.imshow(x_train[9487],cmap='Greys')"
      ],
      "metadata": {
        "colab": {
          "base_uri": "https://localhost:8080/",
          "height": 447
        },
        "id": "r9lp4NyG4Tcf",
        "outputId": "0fbcba3b-39b8-475b-9bfb-edfd01a6a394"
      },
      "execution_count": null,
      "outputs": [
        {
          "output_type": "execute_result",
          "data": {
            "text/plain": [
              "<matplotlib.image.AxesImage at 0x78c1b64d9c00>"
            ]
          },
          "metadata": {},
          "execution_count": 24
        },
        {
          "output_type": "display_data",
          "data": {
            "text/plain": [
              "<Figure size 640x480 with 1 Axes>"
            ],
            "image/png": "[encoded data removed]"
          },
          "metadata": {}
        }
      ]
    },
    {
      "cell_type": "code",
      "source": [
        "y_train[9487]"
      ],
      "metadata": {
        "colab": {
          "base_uri": "https://localhost:8080/"
        },
        "id": "EUyW4Cs85JDv",
        "outputId": "6238772b-10de-439c-ec9b-aeb87701f9a5"
      },
      "execution_count": null,
      "outputs": [
        {
          "output_type": "execute_result",
          "data": {
            "text/plain": [
              "1"
            ]
          },
          "metadata": {},
          "execution_count": 25
        }
      ]
    },
    {
      "cell_type": "markdown",
      "source": [
        "### 2.3 輸入格式整理\n",
        "\n",
        "用標準神經網路學手寫辨識。\n",
        "\n",
        "原來的每筆數據是個28×28的矩陣(array),\n",
        "\n",
        "但標準神經網路不接受這種格式,要變成28×28=784長的向量才行。\n",
        "\n",
        "因此要用reshape調校。"
      ],
      "metadata": {
        "id": "9icloqHs4MeU"
      }
    },
    {
      "cell_type": "code",
      "source": [
        "x_train.shape"
      ],
      "metadata": {
        "colab": {
          "base_uri": "https://localhost:8080/"
        },
        "id": "WH-7M6Sk5oQy",
        "outputId": "bdb998ae-e0e9-478f-fde7-fc7f9613ac43"
      },
      "execution_count": null,
      "outputs": [
        {
          "output_type": "execute_result",
          "data": {
            "text/plain": [
              "(60000, 28, 28)"
            ]
          },
          "metadata": {},
          "execution_count": 26
        }
      ]
    },
    {
      "cell_type": "markdown",
      "source": [
        "(60000, 28, 28) 代表 六萬筆資料，28×28的矩陣"
      ],
      "metadata": {
        "id": "qXbVZb_-5otP"
      }
    },
    {
      "cell_type": "code",
      "source": [
        "x_train=x_train.reshape(60000,784)\n",
        "x_test=x_test.reshape(10000,784)"
      ],
      "metadata": {
        "id": "4Zs4b4t46FHh"
      },
      "execution_count": null,
      "outputs": []
    },
    {
      "cell_type": "markdown",
      "source": [
        "### 2.4 輸出格式整理\n",
        "\n",
        "輸入x是一張0的圖,訓練的神經網路總會有誤差,可能會得到: f(x)=0.5\n",
        "\n",
        "這代表有可能是0,也有可能是1\n",
        "\n",
        "於是我們會做“1-hot enconding\"\n",
        "\n",
        "• 1 -> [0, 1, 0, 0, 0, 0, 0, 0, 0]\n",
        "\n",
        "• 5 -> [0, 0, 0, 0, 0, 1, 0, 0, 0]\n",
        "\n",
        "分類問題基本上都要做這件事,Keras已有套件"
      ],
      "metadata": {
        "id": "E-GxO9OI6oyl"
      }
    },
    {
      "cell_type": "code",
      "source": [
        "from keras.utils import to_categorical\n",
        "\n",
        "# 將標籤進行 One-Hot Encoding\n",
        "y_train = to_categorical(y_train, 10)\n",
        "y_test = to_categorical(y_test, 10)"
      ],
      "metadata": {
        "id": "UxNMeMp4-nHK"
      },
      "execution_count": null,
      "outputs": []
    },
    {
      "cell_type": "code",
      "source": [
        "y_train[9487]"
      ],
      "metadata": {
        "id": "INnD7dx6_Wyd",
        "outputId": "65aba64f-e09e-41fa-94ac-44c7a9d3db25",
        "colab": {
          "base_uri": "https://localhost:8080/"
        }
      },
      "execution_count": null,
      "outputs": [
        {
          "output_type": "execute_result",
          "data": {
            "text/plain": [
              "array([0., 1., 0., 0., 0., 0., 0., 0., 0., 0.], dtype=float32)"
            ]
          },
          "metadata": {},
          "execution_count": 29
        }
      ]
    },
    {
      "cell_type": "markdown",
      "source": [
        "## 3. 打造第一個神經網路\n",
        "我們決定了我們的函數是\n",
        "f : R^784→R^10\n",
        "\n",
        "只需要再決定要幾個隱藏層、每層要幾個神經元,用哪個激發函數就可以了。"
      ],
      "metadata": {
        "id": "MlxxE7U0BN7Z"
      }
    },
    {
      "cell_type": "markdown",
      "source": [
        "### 3.1 決定神經網路架構、讀入相關套件\n",
        "\n",
        "假如:\n",
        "* 使用 2個 hidden layers\n",
        "* 每個 hidden layer 500個神經元\n",
        "* Activation Function 唯一用 sigmoid\n",
        "\n",
        "從Keras把相關套件讀進來:"
      ],
      "metadata": {
        "id": "T2oTrJSVB1Zz"
      }
    },
    {
      "cell_type": "code",
      "source": [
        "from keras.models import Sequential\n",
        "from keras.layers import Dense, Activation\n",
        "from keras.optimizers import SGD"
      ],
      "metadata": {
        "id": "PGbsMBiBBwLc"
      },
      "execution_count": null,
      "outputs": []
    },
    {
      "cell_type": "markdown",
      "source": [
        "### 3.2 建構神經網路\n",
        "\n",
        "標準一層一層傳遞的神經網路叫 Sequential\n",
        "\n",
        "建立空的神經網路，模型名稱=Sequential()"
      ],
      "metadata": {
        "id": "9y44sRALCsnS"
      }
    },
    {
      "cell_type": "code",
      "source": [
        "model = Sequential()"
      ],
      "metadata": {
        "id": "ZjfuawBiC-YR"
      },
      "execution_count": null,
      "outputs": []
    },
    {
      "cell_type": "markdown",
      "source": [
        "每次用add去加一層,從第一個隱藏層開始。\n",
        "\n",
        "第一個隱藏層Keras不知道輸入有幾個features,所以要告訴它。"
      ],
      "metadata": {
        "id": "Q5Y3mEqBFopY"
      }
    },
    {
      "cell_type": "code",
      "source": [
        "model.add(Dense(500,input_dim=784))\n",
        "model.add(Activation('sigmoid'))"
      ],
      "metadata": {
        "id": "taYHSB0WFuPZ"
      },
      "execution_count": null,
      "outputs": []
    },
    {
      "cell_type": "markdown",
      "source": [
        "第二層隱藏層因為前面輸出是500,現在輸入是500,就不用再寫input_dim\n",
        "\n",
        "這裡的500只是告訴Keras,我們第二層還是用500"
      ],
      "metadata": {
        "id": "81dehErAFp1Q"
      }
    },
    {
      "cell_type": "code",
      "source": [
        "model.add(Dense(500))\n",
        "model.add(Activation('sigmoid'))"
      ],
      "metadata": {
        "id": "6W35uyiyJVLt"
      },
      "execution_count": null,
      "outputs": []
    },
    {
      "cell_type": "markdown",
      "source": [
        "輸出有10個數字(0~9),所以輸出層的神經元是10個\n",
        "\n",
        "網路輸出是: (y_1,y_2, ... ,y_10)\n",
        "\n",
        "我們還希望\n",
        "\n",
        "$ \\sum ^{10}_{i=1} {{y}_{i}} $\n",
        "\n",
        "結果是很容易,就用softmax當激發函數:"
      ],
      "metadata": {
        "id": "NpW-4GBRJd4b"
      }
    },
    {
      "cell_type": "code",
      "source": [
        "model.add(Dense(10))\n",
        "model.add(Activation('sigmoid'))"
      ],
      "metadata": {
        "id": "C1Img-IXLFwI"
      },
      "execution_count": null,
      "outputs": []
    },
    {
      "cell_type": "markdown",
      "source": [
        "第一個神經網路就建好了"
      ],
      "metadata": {
        "id": "VMeBvBdYLhGY"
      }
    },
    {
      "cell_type": "markdown",
      "source": [
        "## 4. 組裝\n"
      ],
      "metadata": {
        "id": "bw8XRpZHQneJ"
      }
    },
    {
      "cell_type": "code",
      "source": [
        "model.compile(loss='mse',optimizer=SGD(learning_rate=0.1),metrics=['accuracy'])"
      ],
      "metadata": {
        "id": "W9MfxqeFQ7kW"
      },
      "execution_count": null,
      "outputs": []
    },
    {
      "cell_type": "markdown",
      "source": [
        "## 5. 檢視神經網路"
      ],
      "metadata": {
        "id": "3z1_d5s-RYfZ"
      }
    },
    {
      "cell_type": "markdown",
      "source": [
        "### 5.1 看model的summary"
      ],
      "metadata": {
        "id": "rqZUC_nMRnMm"
      }
    },
    {
      "cell_type": "code",
      "source": [
        "model.summary()"
      ],
      "metadata": {
        "colab": {
          "base_uri": "https://localhost:8080/"
        },
        "id": "xk0PsuxKRVwR",
        "outputId": "c666c24c-00a6-4c43-f18b-718d86dbada3"
      },
      "execution_count": null,
      "outputs": [
        {
          "output_type": "stream",
          "name": "stdout",
          "text": [
            "Model: \"sequential_1\"\n",
            "_________________________________________________________________\n",
            " Layer (type)                Output Shape              Param #   \n",
            "=================================================================\n",
            " dense_3 (Dense)             (None, 500)               392500    \n",
            "                                                                 \n",
            " activation_3 (Activation)   (None, 500)               0         \n",
            "                                                                 \n",
            " dense_4 (Dense)             (None, 500)               250500    \n",
            "                                                                 \n",
            " activation_4 (Activation)   (None, 500)               0         \n",
            "                                                                 \n",
            " dense_5 (Dense)             (None, 10)                5010      \n",
            "                                                                 \n",
            " activation_5 (Activation)   (None, 10)                0         \n",
            "                                                                 \n",
            "=================================================================\n",
            "Total params: 648010 (2.47 MB)\n",
            "Trainable params: 648010 (2.47 MB)\n",
            "Non-trainable params: 0 (0.00 Byte)\n",
            "_________________________________________________________________\n"
          ]
        }
      ]
    },
    {
      "cell_type": "code",
      "source": [
        "# 392500 = 輸入784*與500神經元相連+ 500(幾個神經元就有幾個biases)\n",
        "# 250500 = 第一層500神經元*第二層500神經元+500(幾個神經元就有幾個biases)\n",
        "# 250500 = 500*500+500\n",
        "# 5010 = 第二層500神經元*輸出10個神經元+10"
      ],
      "metadata": {
        "id": "6gDRYsbbSNA3"
      },
      "execution_count": null,
      "outputs": []
    },
    {
      "cell_type": "code",
      "source": [
        "from keras.utils import plot_model\n",
        "plot_model(model, show_shapes=True, to_file='model01.png')"
      ],
      "metadata": {
        "colab": {
          "base_uri": "https://localhost:8080/",
          "height": 754
        },
        "id": "vUQnXZb5VaUT",
        "outputId": "d078ea87-e584-471b-eab4-2b51b624bd9b"
      },
      "execution_count": null,
      "outputs": [
        {
          "output_type": "execute_result",
          "data": {
            "image/png": "[encoded data removed]",
            "text/plain": [
              "<IPython.core.display.Image object>"
            ]
          },
          "metadata": {},
          "execution_count": 38
        }
      ]
    },
    {
      "cell_type": "markdown",
      "source": [
        "## 6. 訓練神經網路\n",
        "batch_size:一次要訓練幾筆資料\n",
        "\n",
        "epochs:資料一共要訓練幾次"
      ],
      "metadata": {
        "id": "VMZN4Q7PWIrx"
      }
    },
    {
      "cell_type": "code",
      "source": [
        "model.fit(x_train, y_train, batch_size=100, epochs=20)"
      ],
      "metadata": {
        "colab": {
          "base_uri": "https://localhost:8080/"
        },
        "id": "cDWOsxM4V6vW",
        "outputId": "2a03a2d8-f4a5-44ab-c05a-f2434682af28"
      },
      "execution_count": null,
      "outputs": [
        {
          "output_type": "stream",
          "name": "stdout",
          "text": [
            "Epoch 1/20\n",
            "600/600 [==============================] - 8s 13ms/step - loss: 0.0846 - accuracy: 0.3644\n",
            "Epoch 2/20\n",
            "600/600 [==============================] - 7s 12ms/step - loss: 0.0661 - accuracy: 0.6525\n",
            "Epoch 3/20\n",
            "600/600 [==============================] - 8s 14ms/step - loss: 0.0515 - accuracy: 0.7784\n",
            "Epoch 4/20\n",
            "600/600 [==============================] - 10s 17ms/step - loss: 0.0415 - accuracy: 0.8315\n",
            "Epoch 5/20\n",
            "600/600 [==============================] - 9s 15ms/step - loss: 0.0347 - accuracy: 0.8569\n",
            "Epoch 6/20\n",
            "600/600 [==============================] - 7s 12ms/step - loss: 0.0300 - accuracy: 0.8720\n",
            "Epoch 7/20\n",
            "600/600 [==============================] - 8s 14ms/step - loss: 0.0265 - accuracy: 0.8835\n",
            "Epoch 8/20\n",
            "600/600 [==============================] - 8s 13ms/step - loss: 0.0240 - accuracy: 0.8908\n",
            "Epoch 9/20\n",
            "600/600 [==============================] - 7s 12ms/step - loss: 0.0220 - accuracy: 0.8968\n",
            "Epoch 10/20\n",
            "600/600 [==============================] - 7s 12ms/step - loss: 0.0204 - accuracy: 0.9018\n",
            "Epoch 11/20\n",
            "600/600 [==============================] - 7s 11ms/step - loss: 0.0192 - accuracy: 0.9069\n",
            "Epoch 12/20\n",
            "600/600 [==============================] - 7s 12ms/step - loss: 0.0181 - accuracy: 0.9103\n",
            "Epoch 13/20\n",
            "600/600 [==============================] - 7s 12ms/step - loss: 0.0172 - accuracy: 0.9138\n",
            "Epoch 14/20\n",
            "600/600 [==============================] - 9s 15ms/step - loss: 0.0164 - accuracy: 0.9162\n",
            "Epoch 15/20\n",
            "600/600 [==============================] - 9s 15ms/step - loss: 0.0158 - accuracy: 0.9188\n",
            "Epoch 16/20\n",
            "600/600 [==============================] - 7s 12ms/step - loss: 0.0152 - accuracy: 0.9213\n",
            "Epoch 17/20\n",
            "600/600 [==============================] - 8s 13ms/step - loss: 0.0146 - accuracy: 0.9238\n",
            "Epoch 18/20\n",
            "600/600 [==============================] - 6s 11ms/step - loss: 0.0142 - accuracy: 0.9260\n",
            "Epoch 19/20\n",
            "600/600 [==============================] - 7s 12ms/step - loss: 0.0137 - accuracy: 0.9275\n",
            "Epoch 20/20\n",
            "600/600 [==============================] - 7s 11ms/step - loss: 0.0133 - accuracy: 0.9296\n"
          ]
        },
        {
          "output_type": "execute_result",
          "data": {
            "text/plain": [
              "<keras.src.callbacks.History at 0x78c1b5a87910>"
            ]
          },
          "metadata": {},
          "execution_count": 39
        }
      ]
    },
    {
      "cell_type": "code",
      "source": [
        "from ipywidgets import interact_manual"
      ],
      "metadata": {
        "id": "EfuTLERWXIIG"
      },
      "execution_count": null,
      "outputs": []
    },
    {
      "cell_type": "markdown",
      "source": [
        "試用結果"
      ],
      "metadata": {
        "id": "TlP0tCepXKRd"
      }
    },
    {
      "cell_type": "code",
      "source": [
        "# 使用模型進行預測\n",
        "predictions = model.predict(x_test)\n",
        "\n",
        "# 將預測的概率轉換為類別\n",
        "predict_classes = np.argmax(predictions, axis=-1)\n"
      ],
      "metadata": {
        "colab": {
          "base_uri": "https://localhost:8080/"
        },
        "id": "kInHHXi3XXOA",
        "outputId": "0750e8b8-44d5-4a81-8be8-d8f4f2ecde3a"
      },
      "execution_count": null,
      "outputs": [
        {
          "output_type": "stream",
          "name": "stdout",
          "text": [
            "313/313 [==============================] - 2s 4ms/step\n"
          ]
        }
      ]
    },
    {
      "cell_type": "code",
      "source": [
        "# 定義測試函數\n",
        "def test(測試編號):\n",
        "    plt.imshow(x_test[測試編號].reshape(28,28), cmap=\"Greys\")\n",
        "    print(\"神經網路判斷為:\", predict_classes[測試編號])"
      ],
      "metadata": {
        "id": "03IzZdHuXdzJ"
      },
      "execution_count": null,
      "outputs": []
    },
    {
      "cell_type": "code",
      "source": [
        "# 創建交互式小工具\n",
        "interact_manual(test, 測試編號=(0, 9999));"
      ],
      "metadata": {
        "colab": {
          "base_uri": "https://localhost:8080/",
          "height": 511,
          "referenced_widgets": [
            "3c811d47f01842ddb3a3157e2ecd9388",
            "ac24505819ba4b5ca49352837b3731a7",
            "feccfdb67e0247c9985bf15487dabcd3",
            "4823fb706d9c4629b3e11a19acca4fb5",
            "0d1bc16d5d014d4b995878b2d435b824",
            "a08f03b98bc942daa67ba3f7c78540c0",
            "de7e550a222d49abb9a82e696250f3c6",
            "4ef6ab49e58d4f2faf34b3108aa7091f",
            "b26b4a249e4d48b9859ab5cd8958d4bb",
            "d80099786c32481ea1f48499e9570ada"
          ]
        },
        "id": "UkQ-KrJSY2FZ",
        "outputId": "d0dfe614-25fc-4f18-b08f-17c66781edf7"
      },
      "execution_count": null,
      "outputs": [
        {
          "output_type": "display_data",
          "data": {
            "text/plain": [
              "interactive(children=(IntSlider(value=4999, description='測試編號', max=9999), Button(description='Run Interact', …"
            ],
            "application/vnd.jupyter.widget-view+json": {
              "version_major": 2,
              "version_minor": 0,
              "model_id": "3c811d47f01842ddb3a3157e2ecd9388"
            }
          },
          "metadata": {}
        },
        {
          "output_type": "display_data",
          "data": {
            "text/plain": [
              "<Figure size 640x480 with 1 Axes>"
            ],
            "image/png": "[encoded data removed]"
          },
          "metadata": {}
        }
      ]
    },
    {
      "cell_type": "markdown",
      "source": [
        "## 8. 訓練好的神經網路存起來!\n",
        "下次就不用從零開始訓練"
      ],
      "metadata": {
        "id": "dhhAkkPWZc46"
      }
    },
    {
      "cell_type": "code",
      "source": [
        "model_json = model.to_json()\n",
        "# open('./data/handwriting_model_architecture.json', 'w').write(model_json)\n",
        "model.save_weights('handwriting_model_weights.h5')"
      ],
      "metadata": {
        "id": "uy4KPBXJZlSY"
      },
      "execution_count": null,
      "outputs": []
    }
  ],
  "metadata": {
    "colab": {
      "provenance": []
    },
    "kernelspec": {
      "display_name": "Python 3",
      "name": "python3"
    },
    "widgets": {
      "application/vnd.jupyter.widget-state+json": {
        "3c811d47f01842ddb3a3157e2ecd9388": {
          "model_module": "@jupyter-widgets/controls",
          "model_name": "VBoxModel",
          "model_module_version": "1.5.0",
          "state": {
            "_dom_classes": [
              "widget-interact"
            ],
            "_model_module": "@jupyter-widgets/controls",
            "_model_module_version": "1.5.0",
            "_model_name": "VBoxModel",
            "_view_count": null,
            "_view_module": "@jupyter-widgets/controls",
            "_view_module_version": "1.5.0",
            "_view_name": "VBoxView",
            "box_style": "",
            "children": [
              "IPY_MODEL_ac24505819ba4b5ca49352837b3731a7",
              "IPY_MODEL_feccfdb67e0247c9985bf15487dabcd3",
              "IPY_MODEL_4823fb706d9c4629b3e11a19acca4fb5"
            ],
            "layout": "IPY_MODEL_0d1bc16d5d014d4b995878b2d435b824"
          }
        },
        "ac24505819ba4b5ca49352837b3731a7": {
          "model_module": "@jupyter-widgets/controls",
          "model_name": "IntSliderModel",
          "model_module_version": "1.5.0",
          "state": {
            "_dom_classes": [],
            "_model_module": "@jupyter-widgets/controls",
            "_model_module_version": "1.5.0",
            "_model_name": "IntSliderModel",
            "_view_count": null,
            "_view_module": "@jupyter-widgets/controls",
            "_view_module_version": "1.5.0",
            "_view_name": "IntSliderView",
            "continuous_update": true,
            "description": "測試編號",
            "description_tooltip": null,
            "disabled": false,
            "layout": "IPY_MODEL_a08f03b98bc942daa67ba3f7c78540c0",
            "max": 9999,
            "min": 0,
            "orientation": "horizontal",
            "readout": true,
            "readout_format": "d",
            "step": 1,
            "style": "IPY_MODEL_de7e550a222d49abb9a82e696250f3c6",
            "value": 7742
          }
        },
        "feccfdb67e0247c9985bf15487dabcd3": {
          "model_module": "@jupyter-widgets/controls",
          "model_name": "ButtonModel",
          "model_module_version": "1.5.0",
          "state": {
            "_dom_classes": [],
            "_model_module": "@jupyter-widgets/controls",
            "_model_module_version": "1.5.0",
            "_model_name": "ButtonModel",
            "_view_count": null,
            "_view_module": "@jupyter-widgets/controls",
            "_view_module_version": "1.5.0",
            "_view_name": "ButtonView",
            "button_style": "",
            "description": "Run Interact",
            "disabled": false,
            "icon": "",
            "layout": "IPY_MODEL_4ef6ab49e58d4f2faf34b3108aa7091f",
            "style": "IPY_MODEL_b26b4a249e4d48b9859ab5cd8958d4bb",
            "tooltip": ""
          }
        },
        "4823fb706d9c4629b3e11a19acca4fb5": {
          "model_module": "@jupyter-widgets/output",
          "model_name": "OutputModel",
          "model_module_version": "1.0.0",
          "state": {
            "_dom_classes": [],
            "_model_module": "@jupyter-widgets/output",
            "_model_module_version": "1.0.0",
            "_model_name": "OutputModel",
            "_view_count": null,
            "_view_module": "@jupyter-widgets/output",
            "_view_module_version": "1.0.0",
            "_view_name": "OutputView",
            "layout": "IPY_MODEL_d80099786c32481ea1f48499e9570ada",
            "msg_id": "",
            "outputs": [
              {
                "output_type": "stream",
                "name": "stdout",
                "text": [
                  "神經網路判斷為: 5\n"
                ]
              }
            ]
          }
        },
        "0d1bc16d5d014d4b995878b2d435b824": {
          "model_module": "@jupyter-widgets/base",
          "model_name": "LayoutModel",
          "model_module_version": "1.2.0",
          "state": {
            "_model_module": "@jupyter-widgets/base",
            "_model_module_version": "1.2.0",
            "_model_name": "LayoutModel",
            "_view_count": null,
            "_view_module": "@jupyter-widgets/base",
            "_view_module_version": "1.2.0",
            "_view_name": "LayoutView",
            "align_content": null,
            "align_items": null,
            "align_self": null,
            "border": null,
            "bottom": null,
            "display": null,
            "flex": null,
            "flex_flow": null,
            "grid_area": null,
            "grid_auto_columns": null,
            "grid_auto_flow": null,
            "grid_auto_rows": null,
            "grid_column": null,
            "grid_gap": null,
            "grid_row": null,
            "grid_template_areas": null,
            "grid_template_columns": null,
            "grid_template_rows": null,
            "height": null,
            "justify_content": null,
            "justify_items": null,
            "left": null,
            "margin": null,
            "max_height": null,
            "max_width": null,
            "min_height": null,
            "min_width": null,
            "object_fit": null,
            "object_position": null,
            "order": null,
            "overflow": null,
            "overflow_x": null,
            "overflow_y": null,
            "padding": null,
            "right": null,
            "top": null,
            "visibility": null,
            "width": null
          }
        },
        "a08f03b98bc942daa67ba3f7c78540c0": {
          "model_module": "@jupyter-widgets/base",
          "model_name": "LayoutModel",
          "model_module_version": "1.2.0",
          "state": {
            "_model_module": "@jupyter-widgets/base",
            "_model_module_version": "1.2.0",
            "_model_name": "LayoutModel",
            "_view_count": null,
            "_view_module": "@jupyter-widgets/base",
            "_view_module_version": "1.2.0",
            "_view_name": "LayoutView",
            "align_content": null,
            "align_items": null,
            "align_self": null,
            "border": null,
            "bottom": null,
            "display": null,
            "flex": null,
            "flex_flow": null,
            "grid_area": null,
            "grid_auto_columns": null,
            "grid_auto_flow": null,
            "grid_auto_rows": null,
            "grid_column": null,
            "grid_gap": null,
            "grid_row": null,
            "grid_template_areas": null,
            "grid_template_columns": null,
            "grid_template_rows": null,
            "height": null,
            "justify_content": null,
            "justify_items": null,
            "left": null,
            "margin": null,
            "max_height": null,
            "max_width": null,
            "min_height": null,
            "min_width": null,
            "object_fit": null,
            "object_position": null,
            "order": null,
            "overflow": null,
            "overflow_x": null,
            "overflow_y": null,
            "padding": null,
            "right": null,
            "top": null,
            "visibility": null,
            "width": null
          }
        },
        "de7e550a222d49abb9a82e696250f3c6": {
          "model_module": "@jupyter-widgets/controls",
          "model_name": "SliderStyleModel",
          "model_module_version": "1.5.0",
          "state": {
            "_model_module": "@jupyter-widgets/controls",
            "_model_module_version": "1.5.0",
            "_model_name": "SliderStyleModel",
            "_view_count": null,
            "_view_module": "@jupyter-widgets/base",
            "_view_module_version": "1.2.0",
            "_view_name": "StyleView",
            "description_width": "",
            "handle_color": null
          }
        },
        "4ef6ab49e58d4f2faf34b3108aa7091f": {
          "model_module": "@jupyter-widgets/base",
          "model_name": "LayoutModel",
          "model_module_version": "1.2.0",
          "state": {
            "_model_module": "@jupyter-widgets/base",
            "_model_module_version": "1.2.0",
            "_model_name": "LayoutModel",
            "_view_count": null,
            "_view_module": "@jupyter-widgets/base",
            "_view_module_version": "1.2.0",
            "_view_name": "LayoutView",
            "align_content": null,
            "align_items": null,
            "align_self": null,
            "border": null,
            "bottom": null,
            "display": null,
            "flex": null,
            "flex_flow": null,
            "grid_area": null,
            "grid_auto_columns": null,
            "grid_auto_flow": null,
            "grid_auto_rows": null,
            "grid_column": null,
            "grid_gap": null,
            "grid_row": null,
            "grid_template_areas": null,
            "grid_template_columns": null,
            "grid_template_rows": null,
            "height": null,
            "justify_content": null,
            "justify_items": null,
            "left": null,
            "margin": null,
            "max_height": null,
            "max_width": null,
            "min_height": null,
            "min_width": null,
            "object_fit": null,
            "object_position": null,
            "order": null,
            "overflow": null,
            "overflow_x": null,
            "overflow_y": null,
            "padding": null,
            "right": null,
            "top": null,
            "visibility": null,
            "width": null
          }
        },
        "b26b4a249e4d48b9859ab5cd8958d4bb": {
          "model_module": "@jupyter-widgets/controls",
          "model_name": "ButtonStyleModel",
          "model_module_version": "1.5.0",
          "state": {
            "_model_module": "@jupyter-widgets/controls",
            "_model_module_version": "1.5.0",
            "_model_name": "ButtonStyleModel",
            "_view_count": null,
            "_view_module": "@jupyter-widgets/base",
            "_view_module_version": "1.2.0",
            "_view_name": "StyleView",
            "button_color": null,
            "font_weight": ""
          }
        },
        "d80099786c32481ea1f48499e9570ada": {
          "model_module": "@jupyter-widgets/base",
          "model_name": "LayoutModel",
          "model_module_version": "1.2.0",
          "state": {
            "_model_module": "@jupyter-widgets/base",
            "_model_module_version": "1.2.0",
            "_model_name": "LayoutModel",
            "_view_count": null,
            "_view_module": "@jupyter-widgets/base",
            "_view_module_version": "1.2.0",
            "_view_name": "LayoutView",
            "align_content": null,
            "align_items": null,
            "align_self": null,
            "border": null,
            "bottom": null,
            "display": null,
            "flex": null,
            "flex_flow": null,
            "grid_area": null,
            "grid_auto_columns": null,
            "grid_auto_flow": null,
            "grid_auto_rows": null,
            "grid_column": null,
            "grid_gap": null,
            "grid_row": null,
            "grid_template_areas": null,
            "grid_template_columns": null,
            "grid_template_rows": null,
            "height": null,
            "justify_content": null,
            "justify_items": null,
            "left": null,
            "margin": null,
            "max_height": null,
            "max_width": null,
            "min_height": null,
            "min_width": null,
            "object_fit": null,
            "object_position": null,
            "order": null,
            "overflow": null,
            "overflow_x": null,
            "overflow_y": null,
            "padding": null,
            "right": null,
            "top": null,
            "visibility": null,
            "width": null
          }
        }
      }
    }
  },
  "nbformat": 4,
  "nbformat_minor": 0
}